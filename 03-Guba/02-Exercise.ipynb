{
 "cells": [
  {
   "cell_type": "markdown",
   "metadata": {
    "toc-hr-collapsed": false
   },
   "source": [
    "# 数据清洗"
   ]
  },
  {
   "cell_type": "markdown",
   "metadata": {},
   "source": [
    "所有的数据处理过程都用`data.table`的语法进行操作，建议查看data.table的六个introduction和manual。首先导入`data.table`包："
   ]
  },
  {
   "cell_type": "code",
   "execution_count": 1,
   "metadata": {},
   "outputs": [],
   "source": [
    "library(data.table)"
   ]
  },
  {
   "cell_type": "markdown",
   "metadata": {
    "toc-hr-collapsed": true
   },
   "source": [
    "## 1. 数据导入"
   ]
  },
  {
   "cell_type": "markdown",
   "metadata": {},
   "source": [
    "### 将`posts`和`replys`数据集导入R中，命名为`r.posts`和`r.replys`，保留所有字段名，所有字段空白转化为`NA`。"
   ]
  },
  {
   "cell_type": "code",
   "execution_count": 3,
   "metadata": {},
   "outputs": [
    {
     "data": {
      "text/html": [
       "<table>\n",
       "<thead><tr><th scope=col>reply_author</th><th scope=col>reply_author_url</th><th scope=col>reply_time</th><th scope=col>reply_content</th><th scope=col>tag</th><th scope=col>post_id</th><th scope=col>reply_quote_author</th><th scope=col>reply_quote_author_url</th><th scope=col>reply_quote_content</th><th scope=col>reply_quote_time</th></tr></thead>\n",
       "<tbody>\n",
       "\t<tr><td>投资逻辑要理清                                              </td><td>http://iguba.eastmoney.com/3937024637376220                 </td><td>2017-08-30T17:03:17Z                                        </td><td>房地产调控严厉，大量资金将逐步流入实体和股市，价值投资在路上</td><td>1                                                           </td><td>news,cjpl,697586407                                         </td><td>NA                                                          </td><td>NA                                                          </td><td>NA                                                          </td><td>NA                                                          </td></tr>\n",
       "\t<tr><td>东财网友56315...                                            </td><td>http://iguba.eastmoney.com/5631513300790064                 </td><td>2017-08-30T19:36:50Z                                        </td><td>投资是一科学，投机是一种艺术。                              </td><td>1                                                           </td><td>news,cjpl,697586407                                         </td><td>NA                                                          </td><td>NA                                                          </td><td>NA                                                          </td><td>NA                                                          </td></tr>\n",
       "\t<tr><td>股友xFiRtj                                                  </td><td>http://iguba.eastmoney.com/8103094277422700                 </td><td>2017-08-30T19:52:03Z                                        </td><td>以投资的眼光计算股票，以投机的技巧保障利益。                </td><td>1                                                           </td><td>news,cjpl,697586407                                         </td><td>NA                                                          </td><td>NA                                                          </td><td>NA                                                          </td><td>NA                                                          </td></tr>\n",
       "</tbody>\n",
       "</table>\n"
      ],
      "text/latex": [
       "\\begin{tabular}{r|llllllllll}\n",
       " reply\\_author & reply\\_author\\_url & reply\\_time & reply\\_content & tag & post\\_id & reply\\_quote\\_author & reply\\_quote\\_author\\_url & reply\\_quote\\_content & reply\\_quote\\_time\\\\\n",
       "\\hline\n",
       "\t 投资逻辑要理清                                               & http://iguba.eastmoney.com/3937024637376220                  & 2017-08-30T17:03:17Z                                         & 房地产调控严厉，大量资金将逐步流入实体和股市，价值投资在路上 & 1                                                            & news,cjpl,697586407                                          & NA                                                           & NA                                                           & NA                                                           & NA                                                          \\\\\n",
       "\t 东财网友56315...                                             & http://iguba.eastmoney.com/5631513300790064                  & 2017-08-30T19:36:50Z                                         & 投资是一科学，投机是一种艺术。                               & 1                                                            & news,cjpl,697586407                                          & NA                                                           & NA                                                           & NA                                                           & NA                                                          \\\\\n",
       "\t 股友xFiRtj                                                   & http://iguba.eastmoney.com/8103094277422700                  & 2017-08-30T19:52:03Z                                         & 以投资的眼光计算股票，以投机的技巧保障利益。                 & 1                                                            & news,cjpl,697586407                                          & NA                                                           & NA                                                           & NA                                                           & NA                                                          \\\\\n",
       "\\end{tabular}\n"
      ],
      "text/markdown": [
       "\n",
       "| reply_author | reply_author_url | reply_time | reply_content | tag | post_id | reply_quote_author | reply_quote_author_url | reply_quote_content | reply_quote_time |\n",
       "|---|---|---|---|---|---|---|---|---|---|\n",
       "| 投资逻辑要理清                                               | http://iguba.eastmoney.com/3937024637376220                  | 2017-08-30T17:03:17Z                                         | 房地产调控严厉，大量资金将逐步流入实体和股市，价值投资在路上 | 1                                                            | news,cjpl,697586407                                          | NA                                                           | NA                                                           | NA                                                           | NA                                                           |\n",
       "| 东财网友56315...                                             | http://iguba.eastmoney.com/5631513300790064                  | 2017-08-30T19:36:50Z                                         | 投资是一科学，投机是一种艺术。                               | 1                                                            | news,cjpl,697586407                                          | NA                                                           | NA                                                           | NA                                                           | NA                                                           |\n",
       "| 股友xFiRtj                                                   | http://iguba.eastmoney.com/8103094277422700                  | 2017-08-30T19:52:03Z                                         | 以投资的眼光计算股票，以投机的技巧保障利益。                 | 1                                                            | news,cjpl,697586407                                          | NA                                                           | NA                                                           | NA                                                           | NA                                                           |\n",
       "\n"
      ],
      "text/plain": [
       "  reply_author     reply_author_url                           \n",
       "1 投资逻辑要理清   http://iguba.eastmoney.com/3937024637376220\n",
       "2 东财网友56315... http://iguba.eastmoney.com/5631513300790064\n",
       "3 股友xFiRtj       http://iguba.eastmoney.com/8103094277422700\n",
       "  reply_time          \n",
       "1 2017-08-30T17:03:17Z\n",
       "2 2017-08-30T19:36:50Z\n",
       "3 2017-08-30T19:52:03Z\n",
       "  reply_content                                                tag\n",
       "1 房地产调控严厉，大量资金将逐步流入实体和股市，价值投资在路上 1  \n",
       "2 投资是一科学，投机是一种艺术。                               1  \n",
       "3 以投资的眼光计算股票，以投机的技巧保障利益。                 1  \n",
       "  post_id             reply_quote_author reply_quote_author_url\n",
       "1 news,cjpl,697586407 NA                 NA                    \n",
       "2 news,cjpl,697586407 NA                 NA                    \n",
       "3 news,cjpl,697586407 NA                 NA                    \n",
       "  reply_quote_content reply_quote_time\n",
       "1 NA                  NA              \n",
       "2 NA                  NA              \n",
       "3 NA                  NA              "
      ]
     },
     "metadata": {},
     "output_type": "display_data"
    },
    {
     "data": {
      "text/html": [
       "<table>\n",
       "<thead><tr><th scope=col>guba_name</th><th scope=col>postnums</th><th scope=col>readnum</th><th scope=col>replynum</th><th scope=col>post_id</th><th scope=col>create_time</th><th scope=col>author_url</th><th scope=col>content</th><th scope=col>title</th></tr></thead>\n",
       "<tbody>\n",
       "\t<tr><td>AB股吧                                                                                                                                                                                                                                                                                                                                                                                            </td><td>  0                                                                                                                                                                                                                                                                                                                                                                                               </td><td>  NA                                                                                                                                                                                                                                                                                                                                                                                              </td><td>NA                                                                                                                                                                                                                                                                                                                                                                                                </td><td>NA                                                                                                                                                                                                                                                                                                                                                                                                </td><td>NA                                                                                                                                                                                                                                                                                                                                                                                                </td><td>NA                                                                                                                                                                                                                                                                                                                                                                                                </td><td>NA                                                                                                                                                                                                                                                                                                                                                                                                </td><td>NA                                                                                                                                                                                                                                                                                                                                                                                                </td></tr>\n",
       "\t<tr><td>玉米吧                                                                                                                                                                                                                                                                                                                                                                                            </td><td>479                                                                                                                                                                                                                                                                                                                                                                                               </td><td>2679                                                                                                                                                                                                                                                                                                                                                                                              </td><td> 0                                                                                                                                                                                                                                                                                                                                                                                                </td><td>news,fdcec,685981593                                                                                                                                                                                                                                                                                                                                                                              </td><td>2017-08-01T19:36:35Z                                                                                                                                                                                                                                                                                                                                                                              </td><td>http://iguba.eastmoney.com/5430094274483604                                                                                                                                                                                                                                                                                                                                                       </td><td>对于价值投资中个股的内在价值原则分析,寻找一些具备可操作性原则为基础的思路成为稳健获取盈利的根本。因此这是价值投资的关键所在。要区分最终价值,需要认清内在价值、市场价值、账面价值等不同“价值类别”的区别。简单来说,投资者寻求的是通过衡量内在价值与市场价值之间的“差额”来确定安全边际产生,并通过内在价值的不断释放来获取价值收益性。企业未来创造现金流的折现已经被国际大师定义为内在价值的定义所在。</td><td>价值投资买入股票的方法                                                                                                                                                                                                                                                                                                                                                                            </td></tr>\n",
       "</tbody>\n",
       "</table>\n"
      ],
      "text/latex": [
       "\\begin{tabular}{r|lllllllll}\n",
       " guba\\_name & postnums & readnum & replynum & post\\_id & create\\_time & author\\_url & content & title\\\\\n",
       "\\hline\n",
       "\t AB股吧                                                                                                                                                                                                                                                                                                                                                                                             &   0                                                                                                                                                                                                                                                                                                                                                                                                &   NA                                                                                                                                                                                                                                                                                                                                                                                               & NA                                                                                                                                                                                                                                                                                                                                                                                                 & NA                                                                                                                                                                                                                                                                                                                                                                                                 & NA                                                                                                                                                                                                                                                                                                                                                                                                 & NA                                                                                                                                                                                                                                                                                                                                                                                                 & NA                                                                                                                                                                                                                                                                                                                                                                                                 & NA                                                                                                                                                                                                                                                                                                                                                                                                \\\\\n",
       "\t 玉米吧                                                                                                                                                                                                                                                                                                                                                                                             & 479                                                                                                                                                                                                                                                                                                                                                                                                & 2679                                                                                                                                                                                                                                                                                                                                                                                               &  0                                                                                                                                                                                                                                                                                                                                                                                                 & news,fdcec,685981593                                                                                                                                                                                                                                                                                                                                                                               & 2017-08-01T19:36:35Z                                                                                                                                                                                                                                                                                                                                                                               & http://iguba.eastmoney.com/5430094274483604                                                                                                                                                                                                                                                                                                                                                        & 对于价值投资中个股的内在价值原则分析,寻找一些具备可操作性原则为基础的思路成为稳健获取盈利的根本。因此这是价值投资的关键所在。要区分最终价值,需要认清内在价值、市场价值、账面价值等不同“价值类别”的区别。简单来说,投资者寻求的是通过衡量内在价值与市场价值之间的“差额”来确定安全边际产生,并通过内在价值的不断释放来获取价值收益性。企业未来创造现金流的折现已经被国际大师定义为内在价值的定义所在。 & 价值投资买入股票的方法                                                                                                                                                                                                                                                                                                                                                                            \\\\\n",
       "\\end{tabular}\n"
      ],
      "text/markdown": [
       "\n",
       "| guba_name | postnums | readnum | replynum | post_id | create_time | author_url | content | title |\n",
       "|---|---|---|---|---|---|---|---|---|\n",
       "| AB股吧                                                                                                                                                                                                                                                                                                                                                                                             |   0                                                                                                                                                                                                                                                                                                                                                                                                |   NA                                                                                                                                                                                                                                                                                                                                                                                               | NA                                                                                                                                                                                                                                                                                                                                                                                                 | NA                                                                                                                                                                                                                                                                                                                                                                                                 | NA                                                                                                                                                                                                                                                                                                                                                                                                 | NA                                                                                                                                                                                                                                                                                                                                                                                                 | NA                                                                                                                                                                                                                                                                                                                                                                                                 | NA                                                                                                                                                                                                                                                                                                                                                                                                 |\n",
       "| 玉米吧                                                                                                                                                                                                                                                                                                                                                                                             | 479                                                                                                                                                                                                                                                                                                                                                                                                | 2679                                                                                                                                                                                                                                                                                                                                                                                               |  0                                                                                                                                                                                                                                                                                                                                                                                                 | news,fdcec,685981593                                                                                                                                                                                                                                                                                                                                                                               | 2017-08-01T19:36:35Z                                                                                                                                                                                                                                                                                                                                                                               | http://iguba.eastmoney.com/5430094274483604                                                                                                                                                                                                                                                                                                                                                        | 对于价值投资中个股的内在价值原则分析,寻找一些具备可操作性原则为基础的思路成为稳健获取盈利的根本。因此这是价值投资的关键所在。要区分最终价值,需要认清内在价值、市场价值、账面价值等不同“价值类别”的区别。简单来说,投资者寻求的是通过衡量内在价值与市场价值之间的“差额”来确定安全边际产生,并通过内在价值的不断释放来获取价值收益性。企业未来创造现金流的折现已经被国际大师定义为内在价值的定义所在。 | 价值投资买入股票的方法                                                                                                                                                                                                                                                                                                                                                                             |\n",
       "\n"
      ],
      "text/plain": [
       "  guba_name postnums readnum replynum post_id              create_time         \n",
       "1 AB股吧      0        NA    NA       NA                   NA                  \n",
       "2 玉米吧    479      2679     0       news,fdcec,685981593 2017-08-01T19:36:35Z\n",
       "  author_url                                 \n",
       "1 NA                                         \n",
       "2 http://iguba.eastmoney.com/5430094274483604\n",
       "  content                                                                                                                                                                                                                                                                                                                                                                                           \n",
       "1 NA                                                                                                                                                                                                                                                                                                                                                                                                \n",
       "2 对于价值投资中个股的内在价值原则分析,寻找一些具备可操作性原则为基础的思路成为稳健获取盈利的根本。因此这是价值投资的关键所在。要区分最终价值,需要认清内在价值、市场价值、账面价值等不同“价值类别”的区别。简单来说,投资者寻求的是通过衡量内在价值与市场价值之间的“差额”来确定安全边际产生,并通过内在价值的不断释放来获取价值收益性。企业未来创造现金流的折现已经被国际大师定义为内在价值的定义所在。\n",
       "  title                 \n",
       "1 NA                    \n",
       "2 价值投资买入股票的方法"
      ]
     },
     "metadata": {},
     "output_type": "display_data"
    }
   ],
   "source": [
    "r.replys <- fread(\"replys.csv\", header = T, encoding = \"UTF-8\", na.strings = \"\")\n",
    "r.posts <- fread(\"posts.csv\", header = T, encoding = \"UTF-8\", na.strings = \"\", fill = T)\n",
    "r.replys[1:3]\n",
    "r.posts[1:2]"
   ]
  },
  {
   "cell_type": "markdown",
   "metadata": {
    "toc-hr-collapsed": true
   },
   "source": [
    "## 2. 对`r.posts`进行操作："
   ]
  },
  {
   "cell_type": "markdown",
   "metadata": {},
   "source": [
    "### 2.1 删除所有`postnums`字段都为0的行，查看`post_id`的数量。"
   ]
  },
  {
   "cell_type": "code",
   "execution_count": 5,
   "metadata": {},
   "outputs": [
    {
     "data": {
      "text/html": [
       "253092"
      ],
      "text/latex": [
       "253092"
      ],
      "text/markdown": [
       "253092"
      ],
      "text/plain": [
       "[1] 253092"
      ]
     },
     "metadata": {},
     "output_type": "display_data"
    },
    {
     "data": {
      "text/html": [
       "<table>\n",
       "<thead><tr><th scope=col>guba_name</th><th scope=col>postnums</th><th scope=col>readnum</th><th scope=col>replynum</th><th scope=col>post_id</th><th scope=col>create_time</th><th scope=col>author_url</th><th scope=col>content</th><th scope=col>title</th></tr></thead>\n",
       "<tbody>\n",
       "\t<tr><td>玉米吧                                                                                                                                                                                                                                                                                                                                                                                            </td><td>479                                                                                                                                                                                                                                                                                                                                                                                               </td><td>2679                                                                                                                                                                                                                                                                                                                                                                                              </td><td>0                                                                                                                                                                                                                                                                                                                                                                                                 </td><td>news,fdcec,685981593                                                                                                                                                                                                                                                                                                                                                                              </td><td>2017-08-01T19:36:35Z                                                                                                                                                                                                                                                                                                                                                                              </td><td>http://iguba.eastmoney.com/5430094274483604                                                                                                                                                                                                                                                                                                                                                       </td><td>对于价值投资中个股的内在价值原则分析,寻找一些具备可操作性原则为基础的思路成为稳健获取盈利的根本。因此这是价值投资的关键所在。要区分最终价值,需要认清内在价值、市场价值、账面价值等不同“价值类别”的区别。简单来说,投资者寻求的是通过衡量内在价值与市场价值之间的“差额”来确定安全边际产生,并通过内在价值的不断释放来获取价值收益性。企业未来创造现金流的折现已经被国际大师定义为内在价值的定义所在。</td><td>价值投资买入股票的方法                                                                                                                                                                                                                                                                                                                                                                            </td></tr>\n",
       "</tbody>\n",
       "</table>\n"
      ],
      "text/latex": [
       "\\begin{tabular}{r|lllllllll}\n",
       " guba\\_name & postnums & readnum & replynum & post\\_id & create\\_time & author\\_url & content & title\\\\\n",
       "\\hline\n",
       "\t 玉米吧                                                                                                                                                                                                                                                                                                                                                                                             & 479                                                                                                                                                                                                                                                                                                                                                                                                & 2679                                                                                                                                                                                                                                                                                                                                                                                               & 0                                                                                                                                                                                                                                                                                                                                                                                                  & news,fdcec,685981593                                                                                                                                                                                                                                                                                                                                                                               & 2017-08-01T19:36:35Z                                                                                                                                                                                                                                                                                                                                                                               & http://iguba.eastmoney.com/5430094274483604                                                                                                                                                                                                                                                                                                                                                        & 对于价值投资中个股的内在价值原则分析,寻找一些具备可操作性原则为基础的思路成为稳健获取盈利的根本。因此这是价值投资的关键所在。要区分最终价值,需要认清内在价值、市场价值、账面价值等不同“价值类别”的区别。简单来说,投资者寻求的是通过衡量内在价值与市场价值之间的“差额”来确定安全边际产生,并通过内在价值的不断释放来获取价值收益性。企业未来创造现金流的折现已经被国际大师定义为内在价值的定义所在。 & 价值投资买入股票的方法                                                                                                                                                                                                                                                                                                                                                                            \\\\\n",
       "\\end{tabular}\n"
      ],
      "text/markdown": [
       "\n",
       "| guba_name | postnums | readnum | replynum | post_id | create_time | author_url | content | title |\n",
       "|---|---|---|---|---|---|---|---|---|\n",
       "| 玉米吧                                                                                                                                                                                                                                                                                                                                                                                             | 479                                                                                                                                                                                                                                                                                                                                                                                                | 2679                                                                                                                                                                                                                                                                                                                                                                                               | 0                                                                                                                                                                                                                                                                                                                                                                                                  | news,fdcec,685981593                                                                                                                                                                                                                                                                                                                                                                               | 2017-08-01T19:36:35Z                                                                                                                                                                                                                                                                                                                                                                               | http://iguba.eastmoney.com/5430094274483604                                                                                                                                                                                                                                                                                                                                                        | 对于价值投资中个股的内在价值原则分析,寻找一些具备可操作性原则为基础的思路成为稳健获取盈利的根本。因此这是价值投资的关键所在。要区分最终价值,需要认清内在价值、市场价值、账面价值等不同“价值类别”的区别。简单来说,投资者寻求的是通过衡量内在价值与市场价值之间的“差额”来确定安全边际产生,并通过内在价值的不断释放来获取价值收益性。企业未来创造现金流的折现已经被国际大师定义为内在价值的定义所在。 | 价值投资买入股票的方法                                                                                                                                                                                                                                                                                                                                                                             |\n",
       "\n"
      ],
      "text/plain": [
       "  guba_name postnums readnum replynum post_id              create_time         \n",
       "1 玉米吧    479      2679    0        news,fdcec,685981593 2017-08-01T19:36:35Z\n",
       "  author_url                                 \n",
       "1 http://iguba.eastmoney.com/5430094274483604\n",
       "  content                                                                                                                                                                                                                                                                                                                                                                                           \n",
       "1 对于价值投资中个股的内在价值原则分析,寻找一些具备可操作性原则为基础的思路成为稳健获取盈利的根本。因此这是价值投资的关键所在。要区分最终价值,需要认清内在价值、市场价值、账面价值等不同“价值类别”的区别。简单来说,投资者寻求的是通过衡量内在价值与市场价值之间的“差额”来确定安全边际产生,并通过内在价值的不断释放来获取价值收益性。企业未来创造现金流的折现已经被国际大师定义为内在价值的定义所在。\n",
       "  title                 \n",
       "1 价值投资买入股票的方法"
      ]
     },
     "metadata": {},
     "output_type": "display_data"
    }
   ],
   "source": [
    "r.posts <- r.posts[postnums != 0]\n",
    "r.posts[!is.na(post_id), .N]\n",
    "r.posts[1]"
   ]
  },
  {
   "cell_type": "markdown",
   "metadata": {},
   "source": [
    "### 2.2 统计字段`guba_name`为“螺纹钢吧”帖子的数量，与`postnums`进行对比，哪一个更大。"
   ]
  },
  {
   "cell_type": "code",
   "execution_count": 6,
   "metadata": {},
   "outputs": [
    {
     "data": {
      "text/html": [
       "FALSE"
      ],
      "text/latex": [
       "FALSE"
      ],
      "text/markdown": [
       "FALSE"
      ],
      "text/plain": [
       "[1] FALSE"
      ]
     },
     "metadata": {},
     "output_type": "display_data"
    }
   ],
   "source": [
    "r.posts[guba_name == \"螺纹钢吧\", .N > unique(postnums)]"
   ]
  },
  {
   "cell_type": "markdown",
   "metadata": {},
   "source": [
    "### 2.3 按`create_time`进行升序排列，找出每个吧中最早创建的帖子，将所有这些帖子的信息导出生成一个表，名为`earl.posts`。"
   ]
  },
  {
   "cell_type": "code",
   "execution_count": 8,
   "metadata": {},
   "outputs": [
    {
     "data": {
      "text/html": [
       "<table>\n",
       "<thead><tr><th scope=col>guba_name</th><th scope=col>postnums</th><th scope=col>readnum</th><th scope=col>replynum</th><th scope=col>post_id</th><th scope=col>create_time</th><th scope=col>author_url</th><th scope=col>content</th><th scope=col>title</th></tr></thead>\n",
       "<tbody>\n",
       "\t<tr><td>(201000)R003                                                                                                                                                                                                                                      </td><td>26                                                                                                                                                                                                                                                </td><td>12446                                                                                                                                                                                                                                             </td><td>0                                                                                                                                                                                                                                                 </td><td>news,201000,48392422                                                                                                                                                                                                                              </td><td>2012-02-14T13:55:19Z                                                                                                                                                                                                                              </td><td>http://iguba.eastmoney.com/2050113288689486                                                                                                                                                                                                       </td><td>有知道内情的？出来爆爆料呀！大家都支持一下！！！                                                                                                                                                                                                  </td><td>有知道内情的？出来爆爆料呀！大家都支持一下！！！                                                                                                                                                                                                  </td></tr>\n",
       "\t<tr><td>(201001)R007                                                                                                                                                                                                                                      </td><td>63                                                                                                                                                                                                                                                </td><td>26018                                                                                                                                                                                                                                             </td><td>1                                                                                                                                                                                                                                                 </td><td>news,201001,43730968                                                                                                                                                                                                                              </td><td>2011-09-09T16:00:44Z                                                                                                                                                                                                                              </td><td>http://iguba.eastmoney.com/8010113075460172                                                                                                                                                                                                       </td><td>【记者调查】国务院《社会团体登记管理条例》和民政部《取缔非法民间组织暂行办法》均规定，众泰未经登记，擅自以社团名义进行活动的，属非法民间组织，应予以取缔并没收非法财产。“民政部全国性社会组织查询系统”中没有任何关于“世界杰出华商协会”的登记信息。</td><td>中非众泰希望工程事件疑点揭开 世华会境内铁牛活动非法                                                                                                                                                                                               </td></tr>\n",
       "\t<tr><td>(201002)R014                                                                                                                                                                                                                                      </td><td>10                                                                                                                                                                                                                                                </td><td>25191                                                                                                                                                                                                                                             </td><td>1                                                                                                                                                                                                                                                 </td><td>news,201002,82681828                                                                                                                                                                                                                              </td><td>2013-07-12T10:56:28Z                                                                                                                                                                                                                              </td><td>http://iguba.eastmoney.com/5560013721604282                                                                                                                                                                                                       </td><td>支持支持。。                                                                                                                                                                                                                                      </td><td>R014哈哈哈                                                                                                                                                                                                                                        </td></tr>\n",
       "</tbody>\n",
       "</table>\n"
      ],
      "text/latex": [
       "\\begin{tabular}{r|lllllllll}\n",
       " guba\\_name & postnums & readnum & replynum & post\\_id & create\\_time & author\\_url & content & title\\\\\n",
       "\\hline\n",
       "\t (201000)R003                                                                                                                                                                                                                                       & 26                                                                                                                                                                                                                                                 & 12446                                                                                                                                                                                                                                              & 0                                                                                                                                                                                                                                                  & news,201000,48392422                                                                                                                                                                                                                               & 2012-02-14T13:55:19Z                                                                                                                                                                                                                               & http://iguba.eastmoney.com/2050113288689486                                                                                                                                                                                                        & 有知道内情的？出来爆爆料呀！大家都支持一下！！！                                                                                                                                                                                                   & 有知道内情的？出来爆爆料呀！大家都支持一下！！！                                                                                                                                                                                                  \\\\\n",
       "\t (201001)R007                                                                                                                                                                                                                                       & 63                                                                                                                                                                                                                                                 & 26018                                                                                                                                                                                                                                              & 1                                                                                                                                                                                                                                                  & news,201001,43730968                                                                                                                                                                                                                               & 2011-09-09T16:00:44Z                                                                                                                                                                                                                               & http://iguba.eastmoney.com/8010113075460172                                                                                                                                                                                                        & 【记者调查】国务院《社会团体登记管理条例》和民政部《取缔非法民间组织暂行办法》均规定，众泰未经登记，擅自以社团名义进行活动的，属非法民间组织，应予以取缔并没收非法财产。“民政部全国性社会组织查询系统”中没有任何关于“世界杰出华商协会”的登记信息。 & 中非众泰希望工程事件疑点揭开 世华会境内铁牛活动非法                                                                                                                                                                                               \\\\\n",
       "\t (201002)R014                                                                                                                                                                                                                                       & 10                                                                                                                                                                                                                                                 & 25191                                                                                                                                                                                                                                              & 1                                                                                                                                                                                                                                                  & news,201002,82681828                                                                                                                                                                                                                               & 2013-07-12T10:56:28Z                                                                                                                                                                                                                               & http://iguba.eastmoney.com/5560013721604282                                                                                                                                                                                                        & 支持支持。。                                                                                                                                                                                                                                       & R014哈哈哈                                                                                                                                                                                                                                        \\\\\n",
       "\\end{tabular}\n"
      ],
      "text/markdown": [
       "\n",
       "| guba_name | postnums | readnum | replynum | post_id | create_time | author_url | content | title |\n",
       "|---|---|---|---|---|---|---|---|---|\n",
       "| (201000)R003                                                                                                                                                                                                                                       | 26                                                                                                                                                                                                                                                 | 12446                                                                                                                                                                                                                                              | 0                                                                                                                                                                                                                                                  | news,201000,48392422                                                                                                                                                                                                                               | 2012-02-14T13:55:19Z                                                                                                                                                                                                                               | http://iguba.eastmoney.com/2050113288689486                                                                                                                                                                                                        | 有知道内情的？出来爆爆料呀！大家都支持一下！！！                                                                                                                                                                                                   | 有知道内情的？出来爆爆料呀！大家都支持一下！！！                                                                                                                                                                                                   |\n",
       "| (201001)R007                                                                                                                                                                                                                                       | 63                                                                                                                                                                                                                                                 | 26018                                                                                                                                                                                                                                              | 1                                                                                                                                                                                                                                                  | news,201001,43730968                                                                                                                                                                                                                               | 2011-09-09T16:00:44Z                                                                                                                                                                                                                               | http://iguba.eastmoney.com/8010113075460172                                                                                                                                                                                                        | 【记者调查】国务院《社会团体登记管理条例》和民政部《取缔非法民间组织暂行办法》均规定，众泰未经登记，擅自以社团名义进行活动的，属非法民间组织，应予以取缔并没收非法财产。“民政部全国性社会组织查询系统”中没有任何关于“世界杰出华商协会”的登记信息。 | 中非众泰希望工程事件疑点揭开 世华会境内铁牛活动非法                                                                                                                                                                                                |\n",
       "| (201002)R014                                                                                                                                                                                                                                       | 10                                                                                                                                                                                                                                                 | 25191                                                                                                                                                                                                                                              | 1                                                                                                                                                                                                                                                  | news,201002,82681828                                                                                                                                                                                                                               | 2013-07-12T10:56:28Z                                                                                                                                                                                                                               | http://iguba.eastmoney.com/5560013721604282                                                                                                                                                                                                        | 支持支持。。                                                                                                                                                                                                                                       | R014哈哈哈                                                                                                                                                                                                                                         |\n",
       "\n"
      ],
      "text/plain": [
       "  guba_name    postnums readnum replynum post_id             \n",
       "1 (201000)R003 26       12446   0        news,201000,48392422\n",
       "2 (201001)R007 63       26018   1        news,201001,43730968\n",
       "3 (201002)R014 10       25191   1        news,201002,82681828\n",
       "  create_time          author_url                                 \n",
       "1 2012-02-14T13:55:19Z http://iguba.eastmoney.com/2050113288689486\n",
       "2 2011-09-09T16:00:44Z http://iguba.eastmoney.com/8010113075460172\n",
       "3 2013-07-12T10:56:28Z http://iguba.eastmoney.com/5560013721604282\n",
       "  content                                                                                                                                                                                                                                           \n",
       "1 有知道内情的？出来爆爆料呀！大家都支持一下！！！                                                                                                                                                                                                  \n",
       "2 【记者调查】国务院《社会团体登记管理条例》和民政部《取缔非法民间组织暂行办法》均规定，众泰未经登记，擅自以社团名义进行活动的，属非法民间组织，应予以取缔并没收非法财产。“民政部全国性社会组织查询系统”中没有任何关于“世界杰出华商协会”的登记信息。\n",
       "3 支持支持。。                                                                                                                                                                                                                                      \n",
       "  title                                              \n",
       "1 有知道内情的？出来爆爆料呀！大家都支持一下！！！   \n",
       "2 中非众泰希望工程事件疑点揭开 世华会境内铁牛活动非法\n",
       "3 R014哈哈哈                                         "
      ]
     },
     "metadata": {},
     "output_type": "display_data"
    }
   ],
   "source": [
    "earl.posts <- r.posts[order(create_time), .SD[1], keyby = .(guba_name)]\n",
    "earl.posts[1:3]"
   ]
  },
  {
   "cell_type": "markdown",
   "metadata": {
    "toc-hr-collapsed": true
   },
   "source": [
    "## 3. 对`r.replys`进行操作："
   ]
  },
  {
   "cell_type": "markdown",
   "metadata": {},
   "source": [
    "### 3.1 按照`post_id`和`reply_time`进行分组升序排列，导出最晚的一条回复，生成一个表，名为`late.replys`。"
   ]
  },
  {
   "cell_type": "code",
   "execution_count": 11,
   "metadata": {},
   "outputs": [
    {
     "data": {
      "text/html": [
       "<table>\n",
       "<thead><tr><th scope=col>reply_author</th><th scope=col>reply_author_url</th><th scope=col>reply_time</th><th scope=col>reply_content</th><th scope=col>tag</th><th scope=col>post_id</th><th scope=col>reply_quote_author</th><th scope=col>reply_quote_author_url</th><th scope=col>reply_quote_content</th><th scope=col>reply_quote_time</th></tr></thead>\n",
       "<tbody>\n",
       "\t<tr><td>旋风小飞侠88                               </td><td>http://iguba.eastmoney.com/7930094822111890</td><td>2017-10-30T20:17:54Z                       </td><td>智能自控的代码打错了，智能自控002877       </td><td>1                                          </td><td>news,zxb,723601331                         </td><td>NA                                         </td><td>NA                                         </td><td>NA                                         </td><td>NA                                         </td></tr>\n",
       "</tbody>\n",
       "</table>\n"
      ],
      "text/latex": [
       "\\begin{tabular}{r|llllllllll}\n",
       " reply\\_author & reply\\_author\\_url & reply\\_time & reply\\_content & tag & post\\_id & reply\\_quote\\_author & reply\\_quote\\_author\\_url & reply\\_quote\\_content & reply\\_quote\\_time\\\\\n",
       "\\hline\n",
       "\t 旋风小飞侠88                                & http://iguba.eastmoney.com/7930094822111890 & 2017-10-30T20:17:54Z                        & 智能自控的代码打错了，智能自控002877        & 1                                           & news,zxb,723601331                          & NA                                          & NA                                          & NA                                          & NA                                         \\\\\n",
       "\\end{tabular}\n"
      ],
      "text/markdown": [
       "\n",
       "| reply_author | reply_author_url | reply_time | reply_content | tag | post_id | reply_quote_author | reply_quote_author_url | reply_quote_content | reply_quote_time |\n",
       "|---|---|---|---|---|---|---|---|---|---|\n",
       "| 旋风小飞侠88                                | http://iguba.eastmoney.com/7930094822111890 | 2017-10-30T20:17:54Z                        | 智能自控的代码打错了，智能自控002877        | 1                                           | news,zxb,723601331                          | NA                                          | NA                                          | NA                                          | NA                                          |\n",
       "\n"
      ],
      "text/plain": [
       "  reply_author reply_author_url                            reply_time          \n",
       "1 旋风小飞侠88 http://iguba.eastmoney.com/7930094822111890 2017-10-30T20:17:54Z\n",
       "  reply_content                        tag post_id           \n",
       "1 智能自控的代码打错了，智能自控002877 1   news,zxb,723601331\n",
       "  reply_quote_author reply_quote_author_url reply_quote_content\n",
       "1 NA                 NA                     NA                 \n",
       "  reply_quote_time\n",
       "1 NA              "
      ]
     },
     "metadata": {},
     "output_type": "display_data"
    }
   ],
   "source": [
    "late.replys <- r.replys[order(post_id, reply_time), .SD[.N]]\n",
    "late.replys"
   ]
  },
  {
   "cell_type": "markdown",
   "metadata": {},
   "source": [
    "### 3.2 删除所有reply_content中带有’<>’的部分，例如`<imgsrc=\"\"http://gbres.dfcfw.com/face/emot/emot14.png\"\"title=\"\"牛\"\">`，将此类内容删除。（提示：使用stringr这个package）。"
   ]
  },
  {
   "cell_type": "code",
   "execution_count": 14,
   "metadata": {},
   "outputs": [
    {
     "data": {
      "text/html": [
       "<table>\n",
       "<thead><tr><th scope=col>reply_author</th><th scope=col>reply_author_url</th><th scope=col>reply_time</th><th scope=col>reply_content</th><th scope=col>tag</th><th scope=col>post_id</th><th scope=col>reply_quote_author</th><th scope=col>reply_quote_author_url</th><th scope=col>reply_quote_content</th><th scope=col>reply_quote_time</th></tr></thead>\n",
       "<tbody>\n",
       "\t<tr><td>投资逻辑要理清                                              </td><td>http://iguba.eastmoney.com/3937024637376220                 </td><td>2017-08-30T17:03:17Z                                        </td><td>房地产调控严厉，大量资金将逐步流入实体和股市，价值投资在路上</td><td>1                                                           </td><td>news,cjpl,697586407                                         </td><td>NA                                                          </td><td>NA                                                          </td><td>NA                                                          </td><td>NA                                                          </td></tr>\n",
       "\t<tr><td>东财网友56315...                                            </td><td>http://iguba.eastmoney.com/5631513300790064                 </td><td>2017-08-30T19:36:50Z                                        </td><td>投资是一科学，投机是一种艺术。                              </td><td>1                                                           </td><td>news,cjpl,697586407                                         </td><td>NA                                                          </td><td>NA                                                          </td><td>NA                                                          </td><td>NA                                                          </td></tr>\n",
       "\t<tr><td>股友xFiRtj                                                  </td><td>http://iguba.eastmoney.com/8103094277422700                 </td><td>2017-08-30T19:52:03Z                                        </td><td>以投资的眼光计算股票，以投机的技巧保障利益。                </td><td>1                                                           </td><td>news,cjpl,697586407                                         </td><td>NA                                                          </td><td>NA                                                          </td><td>NA                                                          </td><td>NA                                                          </td></tr>\n",
       "</tbody>\n",
       "</table>\n"
      ],
      "text/latex": [
       "\\begin{tabular}{r|llllllllll}\n",
       " reply\\_author & reply\\_author\\_url & reply\\_time & reply\\_content & tag & post\\_id & reply\\_quote\\_author & reply\\_quote\\_author\\_url & reply\\_quote\\_content & reply\\_quote\\_time\\\\\n",
       "\\hline\n",
       "\t 投资逻辑要理清                                               & http://iguba.eastmoney.com/3937024637376220                  & 2017-08-30T17:03:17Z                                         & 房地产调控严厉，大量资金将逐步流入实体和股市，价值投资在路上 & 1                                                            & news,cjpl,697586407                                          & NA                                                           & NA                                                           & NA                                                           & NA                                                          \\\\\n",
       "\t 东财网友56315...                                             & http://iguba.eastmoney.com/5631513300790064                  & 2017-08-30T19:36:50Z                                         & 投资是一科学，投机是一种艺术。                               & 1                                                            & news,cjpl,697586407                                          & NA                                                           & NA                                                           & NA                                                           & NA                                                          \\\\\n",
       "\t 股友xFiRtj                                                   & http://iguba.eastmoney.com/8103094277422700                  & 2017-08-30T19:52:03Z                                         & 以投资的眼光计算股票，以投机的技巧保障利益。                 & 1                                                            & news,cjpl,697586407                                          & NA                                                           & NA                                                           & NA                                                           & NA                                                          \\\\\n",
       "\\end{tabular}\n"
      ],
      "text/markdown": [
       "\n",
       "| reply_author | reply_author_url | reply_time | reply_content | tag | post_id | reply_quote_author | reply_quote_author_url | reply_quote_content | reply_quote_time |\n",
       "|---|---|---|---|---|---|---|---|---|---|\n",
       "| 投资逻辑要理清                                               | http://iguba.eastmoney.com/3937024637376220                  | 2017-08-30T17:03:17Z                                         | 房地产调控严厉，大量资金将逐步流入实体和股市，价值投资在路上 | 1                                                            | news,cjpl,697586407                                          | NA                                                           | NA                                                           | NA                                                           | NA                                                           |\n",
       "| 东财网友56315...                                             | http://iguba.eastmoney.com/5631513300790064                  | 2017-08-30T19:36:50Z                                         | 投资是一科学，投机是一种艺术。                               | 1                                                            | news,cjpl,697586407                                          | NA                                                           | NA                                                           | NA                                                           | NA                                                           |\n",
       "| 股友xFiRtj                                                   | http://iguba.eastmoney.com/8103094277422700                  | 2017-08-30T19:52:03Z                                         | 以投资的眼光计算股票，以投机的技巧保障利益。                 | 1                                                            | news,cjpl,697586407                                          | NA                                                           | NA                                                           | NA                                                           | NA                                                           |\n",
       "\n"
      ],
      "text/plain": [
       "  reply_author     reply_author_url                           \n",
       "1 投资逻辑要理清   http://iguba.eastmoney.com/3937024637376220\n",
       "2 东财网友56315... http://iguba.eastmoney.com/5631513300790064\n",
       "3 股友xFiRtj       http://iguba.eastmoney.com/8103094277422700\n",
       "  reply_time          \n",
       "1 2017-08-30T17:03:17Z\n",
       "2 2017-08-30T19:36:50Z\n",
       "3 2017-08-30T19:52:03Z\n",
       "  reply_content                                                tag\n",
       "1 房地产调控严厉，大量资金将逐步流入实体和股市，价值投资在路上 1  \n",
       "2 投资是一科学，投机是一种艺术。                               1  \n",
       "3 以投资的眼光计算股票，以投机的技巧保障利益。                 1  \n",
       "  post_id             reply_quote_author reply_quote_author_url\n",
       "1 news,cjpl,697586407 NA                 NA                    \n",
       "2 news,cjpl,697586407 NA                 NA                    \n",
       "3 news,cjpl,697586407 NA                 NA                    \n",
       "  reply_quote_content reply_quote_time\n",
       "1 NA                  NA              \n",
       "2 NA                  NA              \n",
       "3 NA                  NA              "
      ]
     },
     "metadata": {},
     "output_type": "display_data"
    }
   ],
   "source": [
    "library(stringr)\n",
    "r.replys[, reply_content := str_replace_all(reply_content, \"<.+>\", \"\")]\n",
    "r.replys[1:3]"
   ]
  },
  {
   "cell_type": "markdown",
   "metadata": {
    "toc-hr-collapsed": true
   },
   "source": [
    "## 4. 表合并"
   ]
  },
  {
   "cell_type": "markdown",
   "metadata": {},
   "source": [
    "### 对已经处理好`r.posts`和`r.replys`，以`post_id`这个字段进行合并，生成一个表，命名为`int.data`。要求每一条reply都对应一条帖子的信息，也就是将帖子中的reply全部展开，删除在两表中无法匹配的条目。"
   ]
  },
  {
   "cell_type": "code",
   "execution_count": 16,
   "metadata": {},
   "outputs": [
    {
     "data": {
      "text/html": [
       "<table>\n",
       "<thead><tr><th scope=col>reply_author</th><th scope=col>reply_author_url</th><th scope=col>reply_time</th><th scope=col>reply_content</th><th scope=col>tag</th><th scope=col>post_id</th><th scope=col>reply_quote_author</th><th scope=col>reply_quote_author_url</th><th scope=col>reply_quote_content</th><th scope=col>reply_quote_time</th><th scope=col>guba_name</th><th scope=col>postnums</th><th scope=col>readnum</th><th scope=col>replynum</th><th scope=col>create_time</th><th scope=col>author_url</th><th scope=col>content</th><th scope=col>title</th></tr></thead>\n",
       "<tbody>\n",
       "\t<tr><td>股友oHIPu9                                                                                                                                                             </td><td>http://iguba.eastmoney.com/6636024987223162                                                                                                                            </td><td>2017-07-03T22:05:56Z                                                                                                                                                   </td><td>提起永安，空头无不痛恨，八连阳了，爆仓无数，必须联合起来，让永安一天吃个跌停，让它见识一下空头的厉害                                                                   </td><td>1                                                                                                                                                                      </td><td>news,fshferb,665296979                                                                                                                                                 </td><td>NA                                                                                                                                                                     </td><td>NA                                                                                                                                                                     </td><td>NA                                                                                                                                                                     </td><td>NA                                                                                                                                                                     </td><td>螺纹钢吧                                                                                                                                                               </td><td>24817                                                                                                                                                                  </td><td> 903                                                                                                                                                                   </td><td>1                                                                                                                                                                      </td><td>2017-07-03T22:01:45Z                                                                                                                                                   </td><td>http://iguba.eastmoney.com/8902094409244754                                                                                                                            </td><td>疯了！                                                                                                                                                                 </td><td>疯了！                                                                                                                                                                 </td></tr>\n",
       "\t<tr><td>股友xfioSe                                                                                                                                                             </td><td>http://iguba.eastmoney.com/4816034877355234                                                                                                                            </td><td>2017-06-21T19:54:20Z                                                                                                                                                   </td><td>1801的 肯定2960以上 反正每天 猜猜价格 才对赚 猜错也亏不大                                                                                                              </td><td>1                                                                                                                                                                      </td><td>news,fshferb,658760309                                                                                                                                                 </td><td>NA                                                                                                                                                                     </td><td>NA                                                                                                                                                                     </td><td>NA                                                                                                                                                                     </td><td>NA                                                                                                                                                                     </td><td>螺纹钢吧                                                                                                                                                               </td><td>24817                                                                                                                                                                  </td><td>1482                                                                                                                                                                   </td><td>2                                                                                                                                                                      </td><td>2017-06-21T18:00:43Z                                                                                                                                                   </td><td>http://iguba.eastmoney.com/4816034877355234                                                                                                                            </td><td>NA                                                                                                                                                                     </td><td>明天一定3130以上哈哈                                                                                                                                                   </td></tr>\n",
       "\t<tr><td>qftt9981                                                                                                                                                               </td><td>http://iguba.eastmoney.com/6006112880073614                                                                                                                            </td><td>2017-06-22T10:47:57Z                                                                                                                                                   </td><td>小心“黑色星期五”？？Rehearsal, no time to fry. + Crash + continuous limit + crisis may come at any time! + tomorrow morning, the various agencies crazy throwing limit.</td><td>1                                                                                                                                                                      </td><td>news,fshferb,658760309                                                                                                                                                 </td><td>NA                                                                                                                                                                     </td><td>NA                                                                                                                                                                     </td><td>NA                                                                                                                                                                     </td><td>NA                                                                                                                                                                     </td><td>螺纹钢吧                                                                                                                                                               </td><td>24817                                                                                                                                                                  </td><td>1482                                                                                                                                                                   </td><td>2                                                                                                                                                                      </td><td>2017-06-21T18:00:43Z                                                                                                                                                   </td><td>http://iguba.eastmoney.com/4816034877355234                                                                                                                            </td><td>NA                                                                                                                                                                     </td><td>明天一定3130以上哈哈                                                                                                                                                   </td></tr>\n",
       "</tbody>\n",
       "</table>\n"
      ],
      "text/latex": [
       "\\begin{tabular}{r|llllllllllllllllll}\n",
       " reply\\_author & reply\\_author\\_url & reply\\_time & reply\\_content & tag & post\\_id & reply\\_quote\\_author & reply\\_quote\\_author\\_url & reply\\_quote\\_content & reply\\_quote\\_time & guba\\_name & postnums & readnum & replynum & create\\_time & author\\_url & content & title\\\\\n",
       "\\hline\n",
       "\t 股友oHIPu9                                                                                                                                                              & http://iguba.eastmoney.com/6636024987223162                                                                                                                             & 2017-07-03T22:05:56Z                                                                                                                                                    & 提起永安，空头无不痛恨，八连阳了，爆仓无数，必须联合起来，让永安一天吃个跌停，让它见识一下空头的厉害                                                                    & 1                                                                                                                                                                       & news,fshferb,665296979                                                                                                                                                  & NA                                                                                                                                                                      & NA                                                                                                                                                                      & NA                                                                                                                                                                      & NA                                                                                                                                                                      & 螺纹钢吧                                                                                                                                                                & 24817                                                                                                                                                                   &  903                                                                                                                                                                    & 1                                                                                                                                                                       & 2017-07-03T22:01:45Z                                                                                                                                                    & http://iguba.eastmoney.com/8902094409244754                                                                                                                             & 疯了！                                                                                                                                                                  & 疯了！                                                                                                                                                                 \\\\\n",
       "\t 股友xfioSe                                                                                                                                                              & http://iguba.eastmoney.com/4816034877355234                                                                                                                             & 2017-06-21T19:54:20Z                                                                                                                                                    & 1801的 肯定2960以上 反正每天 猜猜价格 才对赚 猜错也亏不大                                                                                                               & 1                                                                                                                                                                       & news,fshferb,658760309                                                                                                                                                  & NA                                                                                                                                                                      & NA                                                                                                                                                                      & NA                                                                                                                                                                      & NA                                                                                                                                                                      & 螺纹钢吧                                                                                                                                                                & 24817                                                                                                                                                                   & 1482                                                                                                                                                                    & 2                                                                                                                                                                       & 2017-06-21T18:00:43Z                                                                                                                                                    & http://iguba.eastmoney.com/4816034877355234                                                                                                                             & NA                                                                                                                                                                      & 明天一定3130以上哈哈                                                                                                                                                   \\\\\n",
       "\t qftt9981                                                                                                                                                                & http://iguba.eastmoney.com/6006112880073614                                                                                                                             & 2017-06-22T10:47:57Z                                                                                                                                                    & 小心“黑色星期五”？？Rehearsal, no time to fry. + Crash + continuous limit + crisis may come at any time! + tomorrow morning, the various agencies crazy throwing limit. & 1                                                                                                                                                                       & news,fshferb,658760309                                                                                                                                                  & NA                                                                                                                                                                      & NA                                                                                                                                                                      & NA                                                                                                                                                                      & NA                                                                                                                                                                      & 螺纹钢吧                                                                                                                                                                & 24817                                                                                                                                                                   & 1482                                                                                                                                                                    & 2                                                                                                                                                                       & 2017-06-21T18:00:43Z                                                                                                                                                    & http://iguba.eastmoney.com/4816034877355234                                                                                                                             & NA                                                                                                                                                                      & 明天一定3130以上哈哈                                                                                                                                                   \\\\\n",
       "\\end{tabular}\n"
      ],
      "text/markdown": [
       "\n",
       "| reply_author | reply_author_url | reply_time | reply_content | tag | post_id | reply_quote_author | reply_quote_author_url | reply_quote_content | reply_quote_time | guba_name | postnums | readnum | replynum | create_time | author_url | content | title |\n",
       "|---|---|---|---|---|---|---|---|---|---|---|---|---|---|---|---|---|---|\n",
       "| 股友oHIPu9                                                                                                                                                              | http://iguba.eastmoney.com/6636024987223162                                                                                                                             | 2017-07-03T22:05:56Z                                                                                                                                                    | 提起永安，空头无不痛恨，八连阳了，爆仓无数，必须联合起来，让永安一天吃个跌停，让它见识一下空头的厉害                                                                    | 1                                                                                                                                                                       | news,fshferb,665296979                                                                                                                                                  | NA                                                                                                                                                                      | NA                                                                                                                                                                      | NA                                                                                                                                                                      | NA                                                                                                                                                                      | 螺纹钢吧                                                                                                                                                                | 24817                                                                                                                                                                   |  903                                                                                                                                                                    | 1                                                                                                                                                                       | 2017-07-03T22:01:45Z                                                                                                                                                    | http://iguba.eastmoney.com/8902094409244754                                                                                                                             | 疯了！                                                                                                                                                                  | 疯了！                                                                                                                                                                  |\n",
       "| 股友xfioSe                                                                                                                                                              | http://iguba.eastmoney.com/4816034877355234                                                                                                                             | 2017-06-21T19:54:20Z                                                                                                                                                    | 1801的 肯定2960以上 反正每天 猜猜价格 才对赚 猜错也亏不大                                                                                                               | 1                                                                                                                                                                       | news,fshferb,658760309                                                                                                                                                  | NA                                                                                                                                                                      | NA                                                                                                                                                                      | NA                                                                                                                                                                      | NA                                                                                                                                                                      | 螺纹钢吧                                                                                                                                                                | 24817                                                                                                                                                                   | 1482                                                                                                                                                                    | 2                                                                                                                                                                       | 2017-06-21T18:00:43Z                                                                                                                                                    | http://iguba.eastmoney.com/4816034877355234                                                                                                                             | NA                                                                                                                                                                      | 明天一定3130以上哈哈                                                                                                                                                    |\n",
       "| qftt9981                                                                                                                                                                | http://iguba.eastmoney.com/6006112880073614                                                                                                                             | 2017-06-22T10:47:57Z                                                                                                                                                    | 小心“黑色星期五”？？Rehearsal, no time to fry. + Crash + continuous limit + crisis may come at any time! + tomorrow morning, the various agencies crazy throwing limit. | 1                                                                                                                                                                       | news,fshferb,658760309                                                                                                                                                  | NA                                                                                                                                                                      | NA                                                                                                                                                                      | NA                                                                                                                                                                      | NA                                                                                                                                                                      | 螺纹钢吧                                                                                                                                                                | 24817                                                                                                                                                                   | 1482                                                                                                                                                                    | 2                                                                                                                                                                       | 2017-06-21T18:00:43Z                                                                                                                                                    | http://iguba.eastmoney.com/4816034877355234                                                                                                                             | NA                                                                                                                                                                      | 明天一定3130以上哈哈                                                                                                                                                    |\n",
       "\n"
      ],
      "text/plain": [
       "  reply_author reply_author_url                            reply_time          \n",
       "1 股友oHIPu9   http://iguba.eastmoney.com/6636024987223162 2017-07-03T22:05:56Z\n",
       "2 股友xfioSe   http://iguba.eastmoney.com/4816034877355234 2017-06-21T19:54:20Z\n",
       "3 qftt9981     http://iguba.eastmoney.com/6006112880073614 2017-06-22T10:47:57Z\n",
       "  reply_content                                                                                                                                                          \n",
       "1 提起永安，空头无不痛恨，八连阳了，爆仓无数，必须联合起来，让永安一天吃个跌停，让它见识一下空头的厉害                                                                   \n",
       "2 1801的 肯定2960以上 反正每天 猜猜价格 才对赚 猜错也亏不大                                                                                                              \n",
       "3 小心“黑色星期五”？？Rehearsal, no time to fry. + Crash + continuous limit + crisis may come at any time! + tomorrow morning, the various agencies crazy throwing limit.\n",
       "  tag post_id                reply_quote_author reply_quote_author_url\n",
       "1 1   news,fshferb,665296979 NA                 NA                    \n",
       "2 1   news,fshferb,658760309 NA                 NA                    \n",
       "3 1   news,fshferb,658760309 NA                 NA                    \n",
       "  reply_quote_content reply_quote_time guba_name postnums readnum replynum\n",
       "1 NA                  NA               螺纹钢吧  24817     903    1       \n",
       "2 NA                  NA               螺纹钢吧  24817    1482    2       \n",
       "3 NA                  NA               螺纹钢吧  24817    1482    2       \n",
       "  create_time          author_url                                  content\n",
       "1 2017-07-03T22:01:45Z http://iguba.eastmoney.com/8902094409244754 疯了！ \n",
       "2 2017-06-21T18:00:43Z http://iguba.eastmoney.com/4816034877355234 NA     \n",
       "3 2017-06-21T18:00:43Z http://iguba.eastmoney.com/4816034877355234 NA     \n",
       "  title               \n",
       "1 疯了！              \n",
       "2 明天一定3130以上哈哈\n",
       "3 明天一定3130以上哈哈"
      ]
     },
     "metadata": {},
     "output_type": "display_data"
    }
   ],
   "source": [
    "int.data <- r.replys[r.posts, on = .(post_id), nomatch = 0]\n",
    "int.data[1:3]"
   ]
  },
  {
   "cell_type": "markdown",
   "metadata": {
    "toc-hr-collapsed": true
   },
   "source": [
    "## 5. 对`int.data`进行操作："
   ]
  },
  {
   "cell_type": "markdown",
   "metadata": {},
   "source": [
    "### 5.1 提取`int.data`中`create_time`的年月日部分，生成一个新变量`create_date`，以`\"%Y-%m-%d\"`的Date格式储存；将`create_time`改为POSXct的标准时间格式：`\"%Y-%m-%d %H:%M:%OS\"`。（提示：运用stringr这个package）"
   ]
  },
  {
   "cell_type": "code",
   "execution_count": 31,
   "metadata": {},
   "outputs": [
    {
     "data": {
      "text/html": [
       "<table>\n",
       "<thead><tr><th scope=col>reply_author</th><th scope=col>reply_author_url</th><th scope=col>reply_time</th><th scope=col>reply_content</th><th scope=col>tag</th><th scope=col>post_id</th><th scope=col>reply_quote_author</th><th scope=col>reply_quote_author_url</th><th scope=col>reply_quote_content</th><th scope=col>reply_quote_time</th><th scope=col>guba_name</th><th scope=col>postnums</th><th scope=col>readnum</th><th scope=col>replynum</th><th scope=col>create_time</th><th scope=col>author_url</th><th scope=col>content</th><th scope=col>title</th><th scope=col>create_date</th></tr></thead>\n",
       "<tbody>\n",
       "\t<tr><td>股友oHIPu9                                                                                                                                                             </td><td>http://iguba.eastmoney.com/6636024987223162                                                                                                                            </td><td>2017-07-03T22:05:56Z                                                                                                                                                   </td><td>提起永安，空头无不痛恨，八连阳了，爆仓无数，必须联合起来，让永安一天吃个跌停，让它见识一下空头的厉害                                                                   </td><td>1                                                                                                                                                                      </td><td>news,fshferb,665296979                                                                                                                                                 </td><td>NA                                                                                                                                                                     </td><td>NA                                                                                                                                                                     </td><td>NA                                                                                                                                                                     </td><td>NA                                                                                                                                                                     </td><td>螺纹钢吧                                                                                                                                                               </td><td>24817                                                                                                                                                                  </td><td> 903                                                                                                                                                                   </td><td>1                                                                                                                                                                      </td><td>2017-07-03 22:01:45                                                                                                                                                    </td><td>http://iguba.eastmoney.com/8902094409244754                                                                                                                            </td><td>疯了！                                                                                                                                                                 </td><td>疯了！                                                                                                                                                                 </td><td>2017-07-03                                                                                                                                                             </td></tr>\n",
       "\t<tr><td>股友xfioSe                                                                                                                                                             </td><td>http://iguba.eastmoney.com/4816034877355234                                                                                                                            </td><td>2017-06-21T19:54:20Z                                                                                                                                                   </td><td>1801的 肯定2960以上 反正每天 猜猜价格 才对赚 猜错也亏不大                                                                                                              </td><td>1                                                                                                                                                                      </td><td>news,fshferb,658760309                                                                                                                                                 </td><td>NA                                                                                                                                                                     </td><td>NA                                                                                                                                                                     </td><td>NA                                                                                                                                                                     </td><td>NA                                                                                                                                                                     </td><td>螺纹钢吧                                                                                                                                                               </td><td>24817                                                                                                                                                                  </td><td>1482                                                                                                                                                                   </td><td>2                                                                                                                                                                      </td><td>2017-06-21 18:00:43                                                                                                                                                    </td><td>http://iguba.eastmoney.com/4816034877355234                                                                                                                            </td><td>NA                                                                                                                                                                     </td><td>明天一定3130以上哈哈                                                                                                                                                   </td><td>2017-06-21                                                                                                                                                             </td></tr>\n",
       "\t<tr><td>qftt9981                                                                                                                                                               </td><td>http://iguba.eastmoney.com/6006112880073614                                                                                                                            </td><td>2017-06-22T10:47:57Z                                                                                                                                                   </td><td>小心“黑色星期五”？？Rehearsal, no time to fry. + Crash + continuous limit + crisis may come at any time! + tomorrow morning, the various agencies crazy throwing limit.</td><td>1                                                                                                                                                                      </td><td>news,fshferb,658760309                                                                                                                                                 </td><td>NA                                                                                                                                                                     </td><td>NA                                                                                                                                                                     </td><td>NA                                                                                                                                                                     </td><td>NA                                                                                                                                                                     </td><td>螺纹钢吧                                                                                                                                                               </td><td>24817                                                                                                                                                                  </td><td>1482                                                                                                                                                                   </td><td>2                                                                                                                                                                      </td><td>2017-06-21 18:00:43                                                                                                                                                    </td><td>http://iguba.eastmoney.com/4816034877355234                                                                                                                            </td><td>NA                                                                                                                                                                     </td><td>明天一定3130以上哈哈                                                                                                                                                   </td><td>2017-06-21                                                                                                                                                             </td></tr>\n",
       "</tbody>\n",
       "</table>\n"
      ],
      "text/latex": [
       "\\begin{tabular}{r|lllllllllllllllllll}\n",
       " reply\\_author & reply\\_author\\_url & reply\\_time & reply\\_content & tag & post\\_id & reply\\_quote\\_author & reply\\_quote\\_author\\_url & reply\\_quote\\_content & reply\\_quote\\_time & guba\\_name & postnums & readnum & replynum & create\\_time & author\\_url & content & title & create\\_date\\\\\n",
       "\\hline\n",
       "\t 股友oHIPu9                                                                                                                                                              & http://iguba.eastmoney.com/6636024987223162                                                                                                                             & 2017-07-03T22:05:56Z                                                                                                                                                    & 提起永安，空头无不痛恨，八连阳了，爆仓无数，必须联合起来，让永安一天吃个跌停，让它见识一下空头的厉害                                                                    & 1                                                                                                                                                                       & news,fshferb,665296979                                                                                                                                                  & NA                                                                                                                                                                      & NA                                                                                                                                                                      & NA                                                                                                                                                                      & NA                                                                                                                                                                      & 螺纹钢吧                                                                                                                                                                & 24817                                                                                                                                                                   &  903                                                                                                                                                                    & 1                                                                                                                                                                       & 2017-07-03 22:01:45                                                                                                                                                     & http://iguba.eastmoney.com/8902094409244754                                                                                                                             & 疯了！                                                                                                                                                                  & 疯了！                                                                                                                                                                  & 2017-07-03                                                                                                                                                             \\\\\n",
       "\t 股友xfioSe                                                                                                                                                              & http://iguba.eastmoney.com/4816034877355234                                                                                                                             & 2017-06-21T19:54:20Z                                                                                                                                                    & 1801的 肯定2960以上 反正每天 猜猜价格 才对赚 猜错也亏不大                                                                                                               & 1                                                                                                                                                                       & news,fshferb,658760309                                                                                                                                                  & NA                                                                                                                                                                      & NA                                                                                                                                                                      & NA                                                                                                                                                                      & NA                                                                                                                                                                      & 螺纹钢吧                                                                                                                                                                & 24817                                                                                                                                                                   & 1482                                                                                                                                                                    & 2                                                                                                                                                                       & 2017-06-21 18:00:43                                                                                                                                                     & http://iguba.eastmoney.com/4816034877355234                                                                                                                             & NA                                                                                                                                                                      & 明天一定3130以上哈哈                                                                                                                                                    & 2017-06-21                                                                                                                                                             \\\\\n",
       "\t qftt9981                                                                                                                                                                & http://iguba.eastmoney.com/6006112880073614                                                                                                                             & 2017-06-22T10:47:57Z                                                                                                                                                    & 小心“黑色星期五”？？Rehearsal, no time to fry. + Crash + continuous limit + crisis may come at any time! + tomorrow morning, the various agencies crazy throwing limit. & 1                                                                                                                                                                       & news,fshferb,658760309                                                                                                                                                  & NA                                                                                                                                                                      & NA                                                                                                                                                                      & NA                                                                                                                                                                      & NA                                                                                                                                                                      & 螺纹钢吧                                                                                                                                                                & 24817                                                                                                                                                                   & 1482                                                                                                                                                                    & 2                                                                                                                                                                       & 2017-06-21 18:00:43                                                                                                                                                     & http://iguba.eastmoney.com/4816034877355234                                                                                                                             & NA                                                                                                                                                                      & 明天一定3130以上哈哈                                                                                                                                                    & 2017-06-21                                                                                                                                                             \\\\\n",
       "\\end{tabular}\n"
      ],
      "text/markdown": [
       "\n",
       "| reply_author | reply_author_url | reply_time | reply_content | tag | post_id | reply_quote_author | reply_quote_author_url | reply_quote_content | reply_quote_time | guba_name | postnums | readnum | replynum | create_time | author_url | content | title | create_date |\n",
       "|---|---|---|---|---|---|---|---|---|---|---|---|---|---|---|---|---|---|---|\n",
       "| 股友oHIPu9                                                                                                                                                              | http://iguba.eastmoney.com/6636024987223162                                                                                                                             | 2017-07-03T22:05:56Z                                                                                                                                                    | 提起永安，空头无不痛恨，八连阳了，爆仓无数，必须联合起来，让永安一天吃个跌停，让它见识一下空头的厉害                                                                    | 1                                                                                                                                                                       | news,fshferb,665296979                                                                                                                                                  | NA                                                                                                                                                                      | NA                                                                                                                                                                      | NA                                                                                                                                                                      | NA                                                                                                                                                                      | 螺纹钢吧                                                                                                                                                                | 24817                                                                                                                                                                   |  903                                                                                                                                                                    | 1                                                                                                                                                                       | 2017-07-03 22:01:45                                                                                                                                                     | http://iguba.eastmoney.com/8902094409244754                                                                                                                             | 疯了！                                                                                                                                                                  | 疯了！                                                                                                                                                                  | 2017-07-03                                                                                                                                                              |\n",
       "| 股友xfioSe                                                                                                                                                              | http://iguba.eastmoney.com/4816034877355234                                                                                                                             | 2017-06-21T19:54:20Z                                                                                                                                                    | 1801的 肯定2960以上 反正每天 猜猜价格 才对赚 猜错也亏不大                                                                                                               | 1                                                                                                                                                                       | news,fshferb,658760309                                                                                                                                                  | NA                                                                                                                                                                      | NA                                                                                                                                                                      | NA                                                                                                                                                                      | NA                                                                                                                                                                      | 螺纹钢吧                                                                                                                                                                | 24817                                                                                                                                                                   | 1482                                                                                                                                                                    | 2                                                                                                                                                                       | 2017-06-21 18:00:43                                                                                                                                                     | http://iguba.eastmoney.com/4816034877355234                                                                                                                             | NA                                                                                                                                                                      | 明天一定3130以上哈哈                                                                                                                                                    | 2017-06-21                                                                                                                                                              |\n",
       "| qftt9981                                                                                                                                                                | http://iguba.eastmoney.com/6006112880073614                                                                                                                             | 2017-06-22T10:47:57Z                                                                                                                                                    | 小心“黑色星期五”？？Rehearsal, no time to fry. + Crash + continuous limit + crisis may come at any time! + tomorrow morning, the various agencies crazy throwing limit. | 1                                                                                                                                                                       | news,fshferb,658760309                                                                                                                                                  | NA                                                                                                                                                                      | NA                                                                                                                                                                      | NA                                                                                                                                                                      | NA                                                                                                                                                                      | 螺纹钢吧                                                                                                                                                                | 24817                                                                                                                                                                   | 1482                                                                                                                                                                    | 2                                                                                                                                                                       | 2017-06-21 18:00:43                                                                                                                                                     | http://iguba.eastmoney.com/4816034877355234                                                                                                                             | NA                                                                                                                                                                      | 明天一定3130以上哈哈                                                                                                                                                    | 2017-06-21                                                                                                                                                              |\n",
       "\n"
      ],
      "text/plain": [
       "  reply_author reply_author_url                            reply_time          \n",
       "1 股友oHIPu9   http://iguba.eastmoney.com/6636024987223162 2017-07-03T22:05:56Z\n",
       "2 股友xfioSe   http://iguba.eastmoney.com/4816034877355234 2017-06-21T19:54:20Z\n",
       "3 qftt9981     http://iguba.eastmoney.com/6006112880073614 2017-06-22T10:47:57Z\n",
       "  reply_content                                                                                                                                                          \n",
       "1 提起永安，空头无不痛恨，八连阳了，爆仓无数，必须联合起来，让永安一天吃个跌停，让它见识一下空头的厉害                                                                   \n",
       "2 1801的 肯定2960以上 反正每天 猜猜价格 才对赚 猜错也亏不大                                                                                                              \n",
       "3 小心“黑色星期五”？？Rehearsal, no time to fry. + Crash + continuous limit + crisis may come at any time! + tomorrow morning, the various agencies crazy throwing limit.\n",
       "  tag post_id                reply_quote_author reply_quote_author_url\n",
       "1 1   news,fshferb,665296979 NA                 NA                    \n",
       "2 1   news,fshferb,658760309 NA                 NA                    \n",
       "3 1   news,fshferb,658760309 NA                 NA                    \n",
       "  reply_quote_content reply_quote_time guba_name postnums readnum replynum\n",
       "1 NA                  NA               螺纹钢吧  24817     903    1       \n",
       "2 NA                  NA               螺纹钢吧  24817    1482    2       \n",
       "3 NA                  NA               螺纹钢吧  24817    1482    2       \n",
       "  create_time         author_url                                  content\n",
       "1 2017-07-03 22:01:45 http://iguba.eastmoney.com/8902094409244754 疯了！ \n",
       "2 2017-06-21 18:00:43 http://iguba.eastmoney.com/4816034877355234 NA     \n",
       "3 2017-06-21 18:00:43 http://iguba.eastmoney.com/4816034877355234 NA     \n",
       "  title                create_date\n",
       "1 疯了！               2017-07-03 \n",
       "2 明天一定3130以上哈哈 2017-06-21 \n",
       "3 明天一定3130以上哈哈 2017-06-21 "
      ]
     },
     "metadata": {},
     "output_type": "display_data"
    }
   ],
   "source": [
    "library(stringr)\n",
    "int.data[, create_date := as.Date(create_time, format = \"%Y-%m-%d\")\n",
    "    ][, create_time := str_replace_all(create_time, \"[TZ]\", \" \")\n",
    "    ][, create_time := as.POSIXct(create_time, format = \"%Y-%m-%d %H:%M:%OS\")]\n",
    "int.data[1:3]"
   ]
  },
  {
   "cell_type": "markdown",
   "metadata": {},
   "source": [
    "### 5.2 提取`int.data`中`create_date`的最大值和最小值，提取所有`guba_name`，对每一个`guba_name`都生成一个以日为单位的时间序列向量，区间为`create_date`的最大值和最小值。并最后输出一个表，名为`tim`。\n",
    "例如有三个guba_name：“玉米吧”，“螺纹钢吧”，“财经评论吧”，create_date最小值和最大值分别为“2015-5-15”和“2015-5-17”，则生成了9行观察值，每个日期都分别对应了每个吧。"
   ]
  },
  {
   "cell_type": "code",
   "execution_count": 19,
   "metadata": {},
   "outputs": [
    {
     "data": {
      "text/html": [
       "<table>\n",
       "<thead><tr><th scope=col>create_date</th><th scope=col>guba_name</th></tr></thead>\n",
       "<tbody>\n",
       "\t<tr><td>2010-05-13  </td><td>(201000)R003</td></tr>\n",
       "\t<tr><td>2010-05-13  </td><td>(201001)R007</td></tr>\n",
       "\t<tr><td>2010-05-13  </td><td>(201002)R014</td></tr>\n",
       "</tbody>\n",
       "</table>\n"
      ],
      "text/latex": [
       "\\begin{tabular}{r|ll}\n",
       " create\\_date & guba\\_name\\\\\n",
       "\\hline\n",
       "\t 2010-05-13   & (201000)R003\\\\\n",
       "\t 2010-05-13   & (201001)R007\\\\\n",
       "\t 2010-05-13   & (201002)R014\\\\\n",
       "\\end{tabular}\n"
      ],
      "text/markdown": [
       "\n",
       "| create_date | guba_name |\n",
       "|---|---|\n",
       "| 2010-05-13   | (201000)R003 |\n",
       "| 2010-05-13   | (201001)R007 |\n",
       "| 2010-05-13   | (201002)R014 |\n",
       "\n"
      ],
      "text/plain": [
       "  create_date guba_name   \n",
       "1 2010-05-13  (201000)R003\n",
       "2 2010-05-13  (201001)R007\n",
       "3 2010-05-13  (201002)R014"
      ]
     },
     "metadata": {},
     "output_type": "display_data"
    }
   ],
   "source": [
    "tim <- CJ(create_date = seq(int.data[, min(create_date)], int.data[, max(create_date)], by = 'day'), guba_name = unique(int.data$guba_name))\n",
    "tim[1:3]"
   ]
  },
  {
   "cell_type": "markdown",
   "metadata": {},
   "source": [
    "### 5.3 将`tim`与`int.data`以`guba_name`和`create_date`进行合并，生成一个新表，名为`int.data.ts`，将所有为`NA`的`readnum`和`replynum`填充为`0`。"
   ]
  },
  {
   "cell_type": "code",
   "execution_count": 21,
   "metadata": {},
   "outputs": [
    {
     "data": {
      "text/html": [
       "<table>\n",
       "<thead><tr><th scope=col>reply_author</th><th scope=col>reply_author_url</th><th scope=col>reply_time</th><th scope=col>reply_content</th><th scope=col>tag</th><th scope=col>post_id</th><th scope=col>reply_quote_author</th><th scope=col>reply_quote_author_url</th><th scope=col>reply_quote_content</th><th scope=col>reply_quote_time</th><th scope=col>guba_name</th><th scope=col>postnums</th><th scope=col>readnum</th><th scope=col>replynum</th><th scope=col>create_time</th><th scope=col>author_url</th><th scope=col>content</th><th scope=col>title</th><th scope=col>create_date</th></tr></thead>\n",
       "<tbody>\n",
       "\t<tr><td>NA          </td><td>NA          </td><td>NA          </td><td>NA          </td><td>NA          </td><td>NA          </td><td>NA          </td><td>NA          </td><td>NA          </td><td>NA          </td><td>(201000)R003</td><td>NA          </td><td>0           </td><td>0           </td><td>NA          </td><td>NA          </td><td>NA          </td><td>NA          </td><td>2010-05-13  </td></tr>\n",
       "\t<tr><td>NA          </td><td>NA          </td><td>NA          </td><td>NA          </td><td>NA          </td><td>NA          </td><td>NA          </td><td>NA          </td><td>NA          </td><td>NA          </td><td>(201001)R007</td><td>NA          </td><td>0           </td><td>0           </td><td>NA          </td><td>NA          </td><td>NA          </td><td>NA          </td><td>2010-05-13  </td></tr>\n",
       "\t<tr><td>NA          </td><td>NA          </td><td>NA          </td><td>NA          </td><td>NA          </td><td>NA          </td><td>NA          </td><td>NA          </td><td>NA          </td><td>NA          </td><td>(201002)R014</td><td>NA          </td><td>0           </td><td>0           </td><td>NA          </td><td>NA          </td><td>NA          </td><td>NA          </td><td>2010-05-13  </td></tr>\n",
       "\t<tr><td>NA          </td><td>NA          </td><td>NA          </td><td>NA          </td><td>NA          </td><td>NA          </td><td>NA          </td><td>NA          </td><td>NA          </td><td>NA          </td><td>(201003)R028</td><td>NA          </td><td>0           </td><td>0           </td><td>NA          </td><td>NA          </td><td>NA          </td><td>NA          </td><td>2010-05-13  </td></tr>\n",
       "\t<tr><td>NA          </td><td>NA          </td><td>NA          </td><td>NA          </td><td>NA          </td><td>NA          </td><td>NA          </td><td>NA          </td><td>NA          </td><td>NA          </td><td>(201004)R091</td><td>NA          </td><td>0           </td><td>0           </td><td>NA          </td><td>NA          </td><td>NA          </td><td>NA          </td><td>2010-05-13  </td></tr>\n",
       "</tbody>\n",
       "</table>\n"
      ],
      "text/latex": [
       "\\begin{tabular}{r|lllllllllllllllllll}\n",
       " reply\\_author & reply\\_author\\_url & reply\\_time & reply\\_content & tag & post\\_id & reply\\_quote\\_author & reply\\_quote\\_author\\_url & reply\\_quote\\_content & reply\\_quote\\_time & guba\\_name & postnums & readnum & replynum & create\\_time & author\\_url & content & title & create\\_date\\\\\n",
       "\\hline\n",
       "\t NA           & NA           & NA           & NA           & NA           & NA           & NA           & NA           & NA           & NA           & (201000)R003 & NA           & 0            & 0            & NA           & NA           & NA           & NA           & 2010-05-13  \\\\\n",
       "\t NA           & NA           & NA           & NA           & NA           & NA           & NA           & NA           & NA           & NA           & (201001)R007 & NA           & 0            & 0            & NA           & NA           & NA           & NA           & 2010-05-13  \\\\\n",
       "\t NA           & NA           & NA           & NA           & NA           & NA           & NA           & NA           & NA           & NA           & (201002)R014 & NA           & 0            & 0            & NA           & NA           & NA           & NA           & 2010-05-13  \\\\\n",
       "\t NA           & NA           & NA           & NA           & NA           & NA           & NA           & NA           & NA           & NA           & (201003)R028 & NA           & 0            & 0            & NA           & NA           & NA           & NA           & 2010-05-13  \\\\\n",
       "\t NA           & NA           & NA           & NA           & NA           & NA           & NA           & NA           & NA           & NA           & (201004)R091 & NA           & 0            & 0            & NA           & NA           & NA           & NA           & 2010-05-13  \\\\\n",
       "\\end{tabular}\n"
      ],
      "text/markdown": [
       "\n",
       "| reply_author | reply_author_url | reply_time | reply_content | tag | post_id | reply_quote_author | reply_quote_author_url | reply_quote_content | reply_quote_time | guba_name | postnums | readnum | replynum | create_time | author_url | content | title | create_date |\n",
       "|---|---|---|---|---|---|---|---|---|---|---|---|---|---|---|---|---|---|---|\n",
       "| NA           | NA           | NA           | NA           | NA           | NA           | NA           | NA           | NA           | NA           | (201000)R003 | NA           | 0            | 0            | NA           | NA           | NA           | NA           | 2010-05-13   |\n",
       "| NA           | NA           | NA           | NA           | NA           | NA           | NA           | NA           | NA           | NA           | (201001)R007 | NA           | 0            | 0            | NA           | NA           | NA           | NA           | 2010-05-13   |\n",
       "| NA           | NA           | NA           | NA           | NA           | NA           | NA           | NA           | NA           | NA           | (201002)R014 | NA           | 0            | 0            | NA           | NA           | NA           | NA           | 2010-05-13   |\n",
       "| NA           | NA           | NA           | NA           | NA           | NA           | NA           | NA           | NA           | NA           | (201003)R028 | NA           | 0            | 0            | NA           | NA           | NA           | NA           | 2010-05-13   |\n",
       "| NA           | NA           | NA           | NA           | NA           | NA           | NA           | NA           | NA           | NA           | (201004)R091 | NA           | 0            | 0            | NA           | NA           | NA           | NA           | 2010-05-13   |\n",
       "\n"
      ],
      "text/plain": [
       "  reply_author reply_author_url reply_time reply_content tag post_id\n",
       "1 NA           NA               NA         NA            NA  NA     \n",
       "2 NA           NA               NA         NA            NA  NA     \n",
       "3 NA           NA               NA         NA            NA  NA     \n",
       "4 NA           NA               NA         NA            NA  NA     \n",
       "5 NA           NA               NA         NA            NA  NA     \n",
       "  reply_quote_author reply_quote_author_url reply_quote_content\n",
       "1 NA                 NA                     NA                 \n",
       "2 NA                 NA                     NA                 \n",
       "3 NA                 NA                     NA                 \n",
       "4 NA                 NA                     NA                 \n",
       "5 NA                 NA                     NA                 \n",
       "  reply_quote_time guba_name    postnums readnum replynum create_time\n",
       "1 NA               (201000)R003 NA       0       0        <NA>       \n",
       "2 NA               (201001)R007 NA       0       0        <NA>       \n",
       "3 NA               (201002)R014 NA       0       0        <NA>       \n",
       "4 NA               (201003)R028 NA       0       0        <NA>       \n",
       "5 NA               (201004)R091 NA       0       0        <NA>       \n",
       "  author_url content title create_date\n",
       "1 NA         NA      NA    2010-05-13 \n",
       "2 NA         NA      NA    2010-05-13 \n",
       "3 NA         NA      NA    2010-05-13 \n",
       "4 NA         NA      NA    2010-05-13 \n",
       "5 NA         NA      NA    2010-05-13 "
      ]
     },
     "metadata": {},
     "output_type": "display_data"
    }
   ],
   "source": [
    "int.data.ts <- int.data[tim, on = .(guba_name, create_date), nomatch = NA\n",
    "    ][is.na(readnum) & is.na(replynum), ':='(readnum = 0, replynum = 0)]\n",
    "int.data.ts[1:5]"
   ]
  },
  {
   "cell_type": "markdown",
   "metadata": {
    "toc-hr-collapsed": true
   },
   "source": [
    "## 6. 统计分析"
   ]
  },
  {
   "cell_type": "markdown",
   "metadata": {},
   "source": [
    "### 6.1 在`r.posts`中，提取出`replynum`最多的十条帖子和十个吧，并导出成两张表为`mx.post`和`mx.ba`，表里变量分别包括`帖子id`、`吧名`、`帖子阅读数`和`帖子回复数`，`吧名`、`吧总体阅读数`和`吧总体回复数`。"
   ]
  },
  {
   "cell_type": "code",
   "execution_count": 25,
   "metadata": {},
   "outputs": [
    {
     "data": {
      "text/html": [
       "<table>\n",
       "<thead><tr><th scope=col>post_id</th><th scope=col>guba_name</th><th scope=col>readnum</th><th scope=col>replynum</th></tr></thead>\n",
       "<tbody>\n",
       "\t<tr><td>news,cjpl,419809422   </td><td>玉米吧                </td><td>657191970             </td><td>13537                 </td></tr>\n",
       "\t<tr><td>news,zxb,614002065    </td><td>中小板吧              </td><td>   764065             </td><td> 7168                 </td></tr>\n",
       "\t<tr><td>news,fczceta,138447392</td><td>PTA吧                 </td><td>  1076205             </td><td> 5310                 </td></tr>\n",
       "\t<tr><td>news,gssz,694173220   </td><td>股市实战吧            </td><td>   560306             </td><td> 3307                 </td></tr>\n",
       "\t<tr><td>news,hxnc,653675348   </td><td>核心内参吧            </td><td>   146617             </td><td> 2108                 </td></tr>\n",
       "</tbody>\n",
       "</table>\n"
      ],
      "text/latex": [
       "\\begin{tabular}{r|llll}\n",
       " post\\_id & guba\\_name & readnum & replynum\\\\\n",
       "\\hline\n",
       "\t news,cjpl,419809422    & 玉米吧                 & 657191970              & 13537                 \\\\\n",
       "\t news,zxb,614002065     & 中小板吧               &    764065              &  7168                 \\\\\n",
       "\t news,fczceta,138447392 & PTA吧                  &   1076205              &  5310                 \\\\\n",
       "\t news,gssz,694173220    & 股市实战吧             &    560306              &  3307                 \\\\\n",
       "\t news,hxnc,653675348    & 核心内参吧             &    146617              &  2108                 \\\\\n",
       "\\end{tabular}\n"
      ],
      "text/markdown": [
       "\n",
       "| post_id | guba_name | readnum | replynum |\n",
       "|---|---|---|---|\n",
       "| news,cjpl,419809422    | 玉米吧                 | 657191970              | 13537                  |\n",
       "| news,zxb,614002065     | 中小板吧               |    764065              |  7168                  |\n",
       "| news,fczceta,138447392 | PTA吧                  |   1076205              |  5310                  |\n",
       "| news,gssz,694173220    | 股市实战吧             |    560306              |  3307                  |\n",
       "| news,hxnc,653675348    | 核心内参吧             |    146617              |  2108                  |\n",
       "\n"
      ],
      "text/plain": [
       "  post_id                guba_name  readnum   replynum\n",
       "1 news,cjpl,419809422    玉米吧     657191970 13537   \n",
       "2 news,zxb,614002065     中小板吧      764065  7168   \n",
       "3 news,fczceta,138447392 PTA吧        1076205  5310   \n",
       "4 news,gssz,694173220    股市实战吧    560306  3307   \n",
       "5 news,hxnc,653675348    核心内参吧    146617  2108   "
      ]
     },
     "metadata": {},
     "output_type": "display_data"
    }
   ],
   "source": [
    "mx.post <- r.posts[order(-replynum), .SD[1:10]\n",
    "    ][, .(post_id, guba_name, readnum, replynum)]\n",
    "mx.post[1:5]"
   ]
  },
  {
   "cell_type": "code",
   "execution_count": 26,
   "metadata": {},
   "outputs": [
    {
     "data": {
      "text/html": [
       "<table>\n",
       "<thead><tr><th scope=col>guba_name</th><th scope=col>replynum</th><th scope=col>readnum</th></tr></thead>\n",
       "<tbody>\n",
       "\t<tr><td>财经评论吧</td><td>387176    </td><td>1272101854</td></tr>\n",
       "\t<tr><td>螺纹钢吧  </td><td> 79748    </td><td>  46297191</td></tr>\n",
       "\t<tr><td>铁矿石吧  </td><td> 41239    </td><td>  22181255</td></tr>\n",
       "\t<tr><td>核心内参吧</td><td> 30057    </td><td>  56217445</td></tr>\n",
       "\t<tr><td>股指期货吧</td><td> 23482    </td><td>  16714063</td></tr>\n",
       "</tbody>\n",
       "</table>\n"
      ],
      "text/latex": [
       "\\begin{tabular}{r|lll}\n",
       " guba\\_name & replynum & readnum\\\\\n",
       "\\hline\n",
       "\t 财经评论吧 & 387176     & 1272101854\\\\\n",
       "\t 螺纹钢吧   &  79748     &   46297191\\\\\n",
       "\t 铁矿石吧   &  41239     &   22181255\\\\\n",
       "\t 核心内参吧 &  30057     &   56217445\\\\\n",
       "\t 股指期货吧 &  23482     &   16714063\\\\\n",
       "\\end{tabular}\n"
      ],
      "text/markdown": [
       "\n",
       "| guba_name | replynum | readnum |\n",
       "|---|---|---|\n",
       "| 财经评论吧 | 387176     | 1272101854 |\n",
       "| 螺纹钢吧   |  79748     |   46297191 |\n",
       "| 铁矿石吧   |  41239     |   22181255 |\n",
       "| 核心内参吧 |  30057     |   56217445 |\n",
       "| 股指期货吧 |  23482     |   16714063 |\n",
       "\n"
      ],
      "text/plain": [
       "  guba_name  replynum readnum   \n",
       "1 财经评论吧 387176   1272101854\n",
       "2 螺纹钢吧    79748     46297191\n",
       "3 铁矿石吧    41239     22181255\n",
       "4 核心内参吧  30057     56217445\n",
       "5 股指期货吧  23482     16714063"
      ]
     },
     "metadata": {},
     "output_type": "display_data"
    }
   ],
   "source": [
    "mx.ba <- r.posts[, .(replynum = sum(replynum), readnum = sum(readnum)), keyby = .(guba_name)\n",
    "    ][order(-replynum), .SD[1:10]]\n",
    "mx.ba[1:5]"
   ]
  },
  {
   "cell_type": "markdown",
   "metadata": {},
   "source": [
    "### 6.2 在`r.posts`中，调用任何相关的描述性统计包，对帖子和吧做描述性统计，要求至少导出`replynum`和`readnum`的最大值、最小值、均值、中位数和方差，并导成一张表名为`stst.int`。"
   ]
  },
  {
   "cell_type": "code",
   "execution_count": 29,
   "metadata": {},
   "outputs": [
    {
     "data": {
      "text/html": [
       "<table>\n",
       "<thead><tr><th></th><th scope=col>replynum</th><th scope=col>readnum</th></tr></thead>\n",
       "<tbody>\n",
       "\t<tr><th scope=row>nbr.val</th><td>2.530920e+05</td><td>2.530920e+05</td></tr>\n",
       "\t<tr><th scope=row>nbr.null</th><td>1.483110e+05</td><td>0.000000e+00</td></tr>\n",
       "\t<tr><th scope=row>nbr.na</th><td>0.000000e+00</td><td>0.000000e+00</td></tr>\n",
       "\t<tr><th scope=row>min</th><td>0.000000e+00</td><td>3.000000e+00</td></tr>\n",
       "\t<tr><th scope=row>max</th><td>1.353700e+04</td><td>6.571920e+08</td></tr>\n",
       "\t<tr><th scope=row>range</th><td>1.353700e+04</td><td>6.571920e+08</td></tr>\n",
       "\t<tr><th scope=row>sum</th><td>7.692060e+05</td><td>2.560160e+09</td></tr>\n",
       "\t<tr><th scope=row>median</th><td>0.000000e+00</td><td>1.137000e+03</td></tr>\n",
       "\t<tr><th scope=row>mean</th><td>3.039235e+00</td><td>1.011553e+04</td></tr>\n",
       "\t<tr><th scope=row>SE.mean</th><td>6.942691e-02</td><td>2.645696e+03</td></tr>\n",
       "\t<tr><th scope=row>CI.mean.0.95</th><td>1.360749e-01</td><td>5.185493e+03</td></tr>\n",
       "\t<tr><th scope=row>var</th><td>1.219928e+03</td><td>1.771570e+12</td></tr>\n",
       "\t<tr><th scope=row>std.dev</th><td>3.492746e+01</td><td>1.331003e+06</td></tr>\n",
       "\t<tr><th scope=row>coef.var</th><td>1.149219e+01</td><td>1.315802e+02</td></tr>\n",
       "</tbody>\n",
       "</table>\n"
      ],
      "text/latex": [
       "\\begin{tabular}{r|ll}\n",
       "  & replynum & readnum\\\\\n",
       "\\hline\n",
       "\tnbr.val & 2.530920e+05 & 2.530920e+05\\\\\n",
       "\tnbr.null & 1.483110e+05 & 0.000000e+00\\\\\n",
       "\tnbr.na & 0.000000e+00 & 0.000000e+00\\\\\n",
       "\tmin & 0.000000e+00 & 3.000000e+00\\\\\n",
       "\tmax & 1.353700e+04 & 6.571920e+08\\\\\n",
       "\trange & 1.353700e+04 & 6.571920e+08\\\\\n",
       "\tsum & 7.692060e+05 & 2.560160e+09\\\\\n",
       "\tmedian & 0.000000e+00 & 1.137000e+03\\\\\n",
       "\tmean & 3.039235e+00 & 1.011553e+04\\\\\n",
       "\tSE.mean & 6.942691e-02 & 2.645696e+03\\\\\n",
       "\tCI.mean.0.95 & 1.360749e-01 & 5.185493e+03\\\\\n",
       "\tvar & 1.219928e+03 & 1.771570e+12\\\\\n",
       "\tstd.dev & 3.492746e+01 & 1.331003e+06\\\\\n",
       "\tcoef.var & 1.149219e+01 & 1.315802e+02\\\\\n",
       "\\end{tabular}\n"
      ],
      "text/markdown": [
       "\n",
       "| <!--/--> | replynum | readnum |\n",
       "|---|---|---|\n",
       "| nbr.val | 2.530920e+05 | 2.530920e+05 |\n",
       "| nbr.null | 1.483110e+05 | 0.000000e+00 |\n",
       "| nbr.na | 0.000000e+00 | 0.000000e+00 |\n",
       "| min | 0.000000e+00 | 3.000000e+00 |\n",
       "| max | 1.353700e+04 | 6.571920e+08 |\n",
       "| range | 1.353700e+04 | 6.571920e+08 |\n",
       "| sum | 7.692060e+05 | 2.560160e+09 |\n",
       "| median | 0.000000e+00 | 1.137000e+03 |\n",
       "| mean | 3.039235e+00 | 1.011553e+04 |\n",
       "| SE.mean | 6.942691e-02 | 2.645696e+03 |\n",
       "| CI.mean.0.95 | 1.360749e-01 | 5.185493e+03 |\n",
       "| var | 1.219928e+03 | 1.771570e+12 |\n",
       "| std.dev | 3.492746e+01 | 1.331003e+06 |\n",
       "| coef.var | 1.149219e+01 | 1.315802e+02 |\n",
       "\n"
      ],
      "text/plain": [
       "             replynum     readnum     \n",
       "nbr.val      2.530920e+05 2.530920e+05\n",
       "nbr.null     1.483110e+05 0.000000e+00\n",
       "nbr.na       0.000000e+00 0.000000e+00\n",
       "min          0.000000e+00 3.000000e+00\n",
       "max          1.353700e+04 6.571920e+08\n",
       "range        1.353700e+04 6.571920e+08\n",
       "sum          7.692060e+05 2.560160e+09\n",
       "median       0.000000e+00 1.137000e+03\n",
       "mean         3.039235e+00 1.011553e+04\n",
       "SE.mean      6.942691e-02 2.645696e+03\n",
       "CI.mean.0.95 1.360749e-01 5.185493e+03\n",
       "var          1.219928e+03 1.771570e+12\n",
       "std.dev      3.492746e+01 1.331003e+06\n",
       "coef.var     1.149219e+01 1.315802e+02"
      ]
     },
     "metadata": {},
     "output_type": "display_data"
    }
   ],
   "source": [
    "library(pastecs)\n",
    "stst.in <- r.posts[, .(replynum = replynum, readnum = readnum)]\n",
    "stst.in <- stat.desc(stst.in)\n",
    "stst.in"
   ]
  },
  {
   "cell_type": "markdown",
   "metadata": {},
   "source": [
    "### 6.3 在`r.posts`中，不调用任何相关的回归结果导出包，先对`readnum`和`replynum`进行相关分析，要求导出相关系数；将`replynum`对`readnum`进行整体回归，导出回归系数以及p-value，查看是否显著；对每个吧分别将`replynum`对`readnum`进行回归，并导出回归系数和p-value值成一个data.table名为`post.reg`，求出显著的回归系数的个数，显著标准为0.05。通过对比上述三个结果，看二者是否有相关关系。 "
   ]
  },
  {
   "cell_type": "code",
   "execution_count": 38,
   "metadata": {},
   "outputs": [
    {
     "data": {
      "text/plain": [
       "\n",
       "\tPearson's product-moment correlation\n",
       "\n",
       "data:  replynum and readnum\n",
       "t = 589.5, df = 253090, p-value < 2.2e-16\n",
       "alternative hypothesis: true correlation is not equal to 0\n",
       "95 percent confidence interval:\n",
       " 0.7590124 0.7622959\n",
       "sample estimates:\n",
       "     cor \n",
       "0.760659 \n"
      ]
     },
     "metadata": {},
     "output_type": "display_data"
    }
   ],
   "source": [
    "r.posts[, cor.test(replynum, readnum)]"
   ]
  },
  {
   "cell_type": "code",
   "execution_count": 36,
   "metadata": {},
   "outputs": [
    {
     "data": {
      "text/html": [
       "<ol class=list-inline>\n",
       "\t<li>1.99607994088637e-05</li>\n",
       "\t<li>0</li>\n",
       "</ol>\n"
      ],
      "text/latex": [
       "\\begin{enumerate*}\n",
       "\\item 1.99607994088637e-05\n",
       "\\item 0\n",
       "\\end{enumerate*}\n"
      ],
      "text/markdown": [
       "1. 1.99607994088637e-05\n",
       "2. 0\n",
       "\n",
       "\n"
      ],
      "text/plain": [
       "[1] 1.99608e-05 0.00000e+00"
      ]
     },
     "metadata": {},
     "output_type": "display_data"
    }
   ],
   "source": [
    "b <- r.posts[, lm(replynum ~ readnum)] %>% summary()  %>% list() %>% lapply(`[[`, \"coefficients\") %>% lapply(`[`, c(2,8)) %>% unlist() \n",
    "b"
   ]
  },
  {
   "cell_type": "code",
   "execution_count": 37,
   "metadata": {},
   "outputs": [
    {
     "data": {
      "text/html": [
       "93"
      ],
      "text/latex": [
       "93"
      ],
      "text/markdown": [
       "93"
      ],
      "text/plain": [
       "[1] 93"
      ]
     },
     "metadata": {},
     "output_type": "display_data"
    }
   ],
   "source": [
    "post.reg <- r.posts[, .(coef = coef(lm(replynum ~ readnum))[2], p.value = lm(replynum ~ readnum) %>% summary() %>% list() %>% lapply(`[[`, \"coefficients\") %>% lapply(`[`, 8) %>% unlist()), keyby = .(guba_name)\n",
    "    ][p.value < 0.05, .N]\n",
    "post.reg"
   ]
  },
  {
   "cell_type": "markdown",
   "metadata": {},
   "source": [
    "### 6.4 在`int.data.ts`中，每次选用1000样本量，在时间轴`create_time`上将`replynum`对`readnum`以`guba_name`进行分组滚动回归。\n",
    "即我们有d个吧，以1000个时间点作为窗口期，在[t-1000, t]窗口中进行数据回归。并最后导出所有回归系数为`reg.roll`。"
   ]
  },
  {
   "cell_type": "code",
   "execution_count": null,
   "metadata": {},
   "outputs": [],
   "source": [
    "n <- 1000\n",
    "reg.roll <- int.data.ts[, {\n",
    "    l <- list()\n",
    "    for (t in (n + 1) : .N) {\n",
    "        l[[t]] <- as.list(c(coef(lm(replynum ~ readnum, data = .SD[(t - n):t]))[2], date = create_time[t]))\n",
    "    }\n",
    "    rbindlist(l)\n",
    "},\n",
    "    keyby = .(guba_name)]\n",
    "\n",
    "reg.roll[, \":=\"(date = as.Date(date, origin = \"1970-01-01\"))][1:5]"
   ]
  }
 ],
 "metadata": {
  "kernelspec": {
   "display_name": "R",
   "language": "R",
   "name": "ir"
  },
  "language_info": {
   "codemirror_mode": "r",
   "file_extension": ".r",
   "mimetype": "text/x-r-source",
   "name": "R",
   "pygments_lexer": "r",
   "version": "3.5.3"
  }
 },
 "nbformat": 4,
 "nbformat_minor": 4
}
